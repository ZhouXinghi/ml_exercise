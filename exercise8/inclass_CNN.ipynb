{
 "cells": [
  {
   "cell_type": "code",
   "execution_count": 18,
   "metadata": {},
   "outputs": [],
   "source": [
    "import torch\n",
    "import torchvision\n",
    "import torch.nn as nn \n",
    "import torch.nn.functional as F\n",
    "from torch.utils.data.dataset import TensorDataset\n",
    "from torch.utils.data.dataloader import DataLoader"
   ]
  },
  {
   "cell_type": "code",
   "execution_count": 19,
   "metadata": {},
   "outputs": [],
   "source": [
    "# download datasets\n",
    "mnist_dev = torchvision.datasets.MNIST(\"./data\", train=True, download=True)\n",
    "mnist_test = torchvision.datasets.MNIST(\"./data\", train=False, download=True)\n",
    "\n",
    "# extract data and targets\n",
    "x_dev, y_dev = mnist_dev.data / 255, mnist_dev.targets\n",
    "\n",
    "# split train and val, construct dataset\n",
    "n_train = 50000\n",
    "train_set = TensorDataset(x_dev[:n_train], y_dev[:n_train])\n",
    "val_set = TensorDataset(x_dev[n_train:], y_dev[n_train:])\n",
    "\n",
    "# construct dataloader\n",
    "dataloaders = {}\n",
    "dataloaders[\"train\"] = DataLoader(train_set, batch_size=64, shuffle=True)\n",
    "dataloaders[\"val\"] = DataLoader(val_set, batch_size=64, shuffle=True)\n"
   ]
  },
  {
   "cell_type": "code",
   "execution_count": 20,
   "metadata": {},
   "outputs": [],
   "source": [
    "class CFunc(nn.Module):\n",
    "    def __init__(self, func):\n",
    "        super().__init__()\n",
    "        self.func = func\n",
    "    \n",
    "    def forward(self, input):\n",
    "        return self.func(input)"
   ]
  },
  {
   "cell_type": "code",
   "execution_count": null,
   "metadata": {},
   "outputs": [],
   "source": []
  },
  {
   "cell_type": "code",
   "execution_count": 21,
   "metadata": {},
   "outputs": [],
   "source": [
    "class CNN(nn.Module):\n",
    "    def __init__(self):\n",
    "        super().__init__()\n",
    "        self.conv1 = nn.Conv2d(in_channels=1, out_channels=16, kernel_size=3, stride=2, padding=1)\n",
    "        self.conv2 = nn.Conv2d(in_channels=16, out_channels=16, kernel_size=3, stride=2, padding=1)\n",
    "        self.conv3 = nn.Conv2d(in_channels=16, out_channels=10, kernel_size=3, stride=2, padding=1)\n",
    "    \n",
    "    def forward(self, x):\n",
    "       x = x.view(-1, 1, 28, 28) \n",
    "       x = F.relu(self.conv1(x))\n",
    "       x = F.relu(self.conv2(x))\n",
    "       x = F.relu(self.conv3(x))\n",
    "       x = F.avg_pool2d(x, kernel_size=4)\n",
    "       x = x.view(x.size(0), -1)\n",
    "       return x\n",
    "\n",
    "# class CNN(nn.Module):\n",
    "#     def __init__(self, num_channels, num_classes):\n",
    "#         super().__init__()\n",
    "#         self.conv1 = nn.Conv2d(1, num_channels, kernel_size=3, stride=2, padding=1)\n",
    "#         self.conv2 = nn.Conv2d(num_channels, num_channels, kernel_size=3, stride=2, padding=1)\n",
    "#         self.conv3 = nn.Conv2d(num_channels, num_classes, kernel_size=3, stride=2, padding=1)\n",
    "    \n",
    "#     def forward(self, xb):\n",
    "#         xb = xb.view(-1, 1, 28, 28)\n",
    "#         xb = F.relu(self.conv1(xb))\n",
    "#         xb = F.relu(self.conv2(xb))\n",
    "#         xb = F.relu(self.conv3(xb))\n",
    "#         xb = F.avg_pool2d(xb, 4)\n",
    "#         return xb.view(-1, xb.size(1)) "
   ]
  },
  {
   "cell_type": "code",
   "execution_count": 22,
   "metadata": {},
   "outputs": [],
   "source": [
    "def initialize_weight(module):\n",
    "    if isinstance(module, (nn.Linear, nn.Conv2d)):\n",
    "        nn.init.xavier_normal_(module.weight)"
   ]
  },
  {
   "cell_type": "code",
   "execution_count": 23,
   "metadata": {},
   "outputs": [
    {
     "data": {
      "text/plain": [
       "CNN(\n",
       "  (conv1): Conv2d(1, 16, kernel_size=(3, 3), stride=(2, 2), padding=(1, 1))\n",
       "  (conv2): Conv2d(16, 16, kernel_size=(3, 3), stride=(2, 2), padding=(1, 1))\n",
       "  (conv3): Conv2d(16, 10, kernel_size=(3, 3), stride=(2, 2), padding=(1, 1))\n",
       ")"
      ]
     },
     "execution_count": 23,
     "metadata": {},
     "output_type": "execute_result"
    }
   ],
   "source": [
    "model = CNN()\n",
    "model.apply(initialize_weight)"
   ]
  },
  {
   "cell_type": "code",
   "execution_count": 24,
   "metadata": {},
   "outputs": [],
   "source": [
    "# device = torch.device(\"cuda\") if torch.cuda.is_available() else torch.device(\"cpu\")\n",
    "# print(device)"
   ]
  },
  {
   "cell_type": "code",
   "execution_count": 25,
   "metadata": {},
   "outputs": [],
   "source": [
    "# model.to(device)"
   ]
  },
  {
   "cell_type": "code",
   "execution_count": 26,
   "metadata": {},
   "outputs": [],
   "source": [
    "def fit(model, dataloaders, optimizer, loss_fn, num_epoch):\n",
    "    for epoch in range(num_epoch):\n",
    "        model.train()\n",
    "        # one minibatch\n",
    "        for x_mini, y_mini in dataloaders[\"train\"]:\n",
    "            # Training\n",
    "            # x_mini.to(device)\n",
    "            # y_mini.to(device)\n",
    "            logits = model(x_mini)\n",
    "            loss_train = loss_fn(logits, y_mini)\n",
    "            model.zero_grad()\n",
    "            loss_train.backward()\n",
    "            optimizer.step()\n",
    "\n",
    "        # Evaluation\n",
    "        model.eval()\n",
    "        loss_val = 0 \n",
    "        with torch.no_grad():\n",
    "            for x_mini, y_mini in dataloaders[\"val\"]:\n",
    "                loss_val += loss_fn(model(x_mini), y_mini)\n",
    "            loss_val /= len(dataloaders[\"val\"])\n",
    "\n",
    "        print(\"Epoch {}: loss_train = {}, loss_val = {}\".format(epoch, loss_train, loss_val))\n",
    "\n"
   ]
  },
  {
   "cell_type": "code",
   "execution_count": 27,
   "metadata": {},
   "outputs": [
    {
     "name": "stdout",
     "output_type": "stream",
     "text": [
      "Epoch 0: loss_train = 0.3921363651752472, loss_val = 0.3937610983848572\n",
      "Epoch 1: loss_train = 0.4083484411239624, loss_val = 0.2568962574005127\n"
     ]
    }
   ],
   "source": [
    "optimizer = torch.optim.SGD(model.parameters(), lr=0.1, momentum=0.9)\n",
    "fit(model, dataloaders, optimizer, F.cross_entropy, 2)"
   ]
  },
  {
   "cell_type": "code",
   "execution_count": 28,
   "metadata": {},
   "outputs": [],
   "source": [
    "model = nn.Sequential(\n",
    "    # (N, 28, 28) -> (N, 1, 28, 28)\n",
    "    CFunc(lambda x: x.view(-1, 1, 28, 28)),\n",
    "    # (N, 1, 28, 28) -> (N, 16, 14, 14)\n",
    "    nn.Conv2d(in_channels=1, out_channels=16, kernel_size=3, stride=2, padding=1),\n",
    "    nn.ReLU(),\n",
    "    # (N, 16, 14, 14) -> (N, 16, 7, 7)\n",
    "    nn.Conv2d(in_channels=16, out_channels=16, kernel_size=3, stride=2, padding=1),\n",
    "    nn.ReLU(),\n",
    "    # (N, 16, 7, 7) -> (N, 10, 4, 4)\n",
    "    nn.Conv2d(in_channels=16, out_channels=10, kernel_size=3, stride=2, padding=1),\n",
    "    nn.ReLU(), \n",
    "    # \n",
    "    nn.AdaptiveAvgPool2d(output_size=1),\n",
    "    CFunc(lambda x: x.view(x.size(0), -1))\n",
    ")"
   ]
  },
  {
   "cell_type": "code",
   "execution_count": 12,
   "metadata": {},
   "outputs": [
    {
     "name": "stdout",
     "output_type": "stream",
     "text": [
      "Epoch 0: loss_train = 0.2679460942745209, loss_val = 0.3013773262500763\n",
      "Epoch 1: loss_train = 0.1895914077758789, loss_val = 0.2513209581375122\n"
     ]
    }
   ],
   "source": [
    "model.apply(initialize_weight)\n",
    "optimizer = torch.optim.SGD(model.parameters(), lr=0.1, momentum=0.9)\n",
    "fit(model, dataloaders, optimizer, F.cross_entropy, 2)"
   ]
  },
  {
   "cell_type": "code",
   "execution_count": 13,
   "metadata": {},
   "outputs": [
    {
     "name": "stdout",
     "output_type": "stream",
     "text": [
      "True\n"
     ]
    }
   ],
   "source": [
    "print(torch.cuda.is_available())\n",
    "device = torch.device(\"cuda\") if torch.cuda.is_available() else torch.device(\"cpu\")"
   ]
  },
  {
   "cell_type": "code",
   "execution_count": 14,
   "metadata": {},
   "outputs": [
    {
     "data": {
      "text/plain": [
       "Sequential(\n",
       "  (0): CFunc()\n",
       "  (1): Conv2d(1, 16, kernel_size=(3, 3), stride=(2, 2), padding=(1, 1))\n",
       "  (2): ReLU()\n",
       "  (3): Conv2d(16, 16, kernel_size=(3, 3), stride=(2, 2), padding=(1, 1))\n",
       "  (4): ReLU()\n",
       "  (5): Conv2d(16, 10, kernel_size=(3, 3), stride=(2, 2), padding=(1, 1))\n",
       "  (6): ReLU()\n",
       "  (7): AdaptiveAvgPool2d(output_size=1)\n",
       "  (8): CFunc()\n",
       ")"
      ]
     },
     "execution_count": 14,
     "metadata": {},
     "output_type": "execute_result"
    }
   ],
   "source": [
    "model.to(device)"
   ]
  },
  {
   "cell_type": "code",
   "execution_count": 15,
   "metadata": {},
   "outputs": [],
   "source": [
    "dataloaders = {}\n",
    "dataloaders[\"train\"] = DataLoader(train_set, batch_size=64, shuffle=True, pin_memory=True)\n",
    "dataloaders[\"val\"] = DataLoader(val_set, batch_size=64, shuffle=False, pin_memory=True)"
   ]
  },
  {
   "cell_type": "code",
   "execution_count": 16,
   "metadata": {},
   "outputs": [],
   "source": [
    "def fit(model, dataloaders, optimizer, loss_fn, num_epoch):\n",
    "    for epoch in range(num_epoch):\n",
    "        model.train()\n",
    "        # one minibatch\n",
    "        for x_mini, y_mini in dataloaders[\"train\"]:\n",
    "            # Training\n",
    "            x_mini = x_mini.to(device)\n",
    "            y_mini = y_mini.to(device)\n",
    "            logits = model(x_mini)\n",
    "            loss_train = loss_fn(logits, y_mini)\n",
    "            model.zero_grad()\n",
    "            loss_train.backward()\n",
    "            optimizer.step()\n",
    "\n",
    "        # Evaluation\n",
    "        model.eval()\n",
    "        loss_val = 0 \n",
    "        with torch.no_grad():\n",
    "            for x_mini, y_mini in dataloaders[\"val\"]:\n",
    "                x_mini = x_mini.to(device)\n",
    "                y_mini = y_mini.to(device)\n",
    "                loss_val += loss_fn(model(x_mini), y_mini)\n",
    "            loss_val /= len(dataloaders[\"val\"])\n",
    "\n",
    "        print(\"Epoch {}: loss_train = {}, loss_val = {}\".format(epoch, loss_train, loss_val))\n",
    "\n"
   ]
  },
  {
   "cell_type": "code",
   "execution_count": 17,
   "metadata": {},
   "outputs": [
    {
     "name": "stdout",
     "output_type": "stream",
     "text": [
      "Epoch 0: loss_train = 0.35736456513404846, loss_val = 0.33639249205589294\n",
      "Epoch 1: loss_train = 0.0864199697971344, loss_val = 0.2613961696624756\n"
     ]
    }
   ],
   "source": [
    "model.apply(initialize_weight)\n",
    "optimizer = torch.optim.SGD(model.parameters(), lr=0.1, momentum=0.9)\n",
    "fit(model, dataloaders, optimizer, F.cross_entropy, 2)"
   ]
  },
  {
   "cell_type": "code",
   "execution_count": null,
   "metadata": {},
   "outputs": [],
   "source": []
  }
 ],
 "metadata": {
  "interpreter": {
   "hash": "7defa187d5e3710339268a5cd15ef0cca1b3c8a600ebfb440211335c2fae9506"
  },
  "kernelspec": {
   "display_name": "Python 3.7.11 64-bit ('i2dl': conda)",
   "language": "python",
   "name": "python3"
  },
  "language_info": {
   "codemirror_mode": {
    "name": "ipython",
    "version": 3
   },
   "file_extension": ".py",
   "mimetype": "text/x-python",
   "name": "python",
   "nbconvert_exporter": "python",
   "pygments_lexer": "ipython3",
   "version": "3.7.11"
  },
  "orig_nbformat": 4
 },
 "nbformat": 4,
 "nbformat_minor": 2
}
