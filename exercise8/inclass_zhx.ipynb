{
 "cells": [
  {
   "cell_type": "code",
   "execution_count": 1,
   "metadata": {},
   "outputs": [],
   "source": [
    "import numpy as np\n",
    "import torch \n",
    "import torchvision \n",
    "import matplotlib.pyplot as plt "
   ]
  },
  {
   "cell_type": "code",
   "execution_count": 2,
   "metadata": {},
   "outputs": [],
   "source": [
    "mnist_dev = torchvision.datasets.MNIST(\"./data\", train=True, download=True)\n",
    "mnist_test = torchvision.datasets.MNIST(\"./data\", train=True, download=True)"
   ]
  },
  {
   "cell_type": "code",
   "execution_count": 3,
   "metadata": {},
   "outputs": [],
   "source": [
    "x_dev = mnist_dev.data / 255\n",
    "y_dev = mnist_dev.targets "
   ]
  },
  {
   "cell_type": "code",
   "execution_count": 4,
   "metadata": {},
   "outputs": [
    {
     "data": {
      "text/plain": [
       "<matplotlib.image.AxesImage at 0x7f1867e2f4d0>"
      ]
     },
     "execution_count": 4,
     "metadata": {},
     "output_type": "execute_result"
    },
    {
     "data": {
      "image/png": "[encoded data removed]",
      "text/plain": [
       "<Figure size 432x288 with 1 Axes>"
      ]
     },
     "metadata": {
      "needs_background": "light"
     },
     "output_type": "display_data"
    }
   ],
   "source": [
    "mnist_dev.data.shape \n",
    "x_dev.shape\n",
    "y_dev.shape\n",
    "plt.imshow(x_dev[0], cmap=\"gray\")"
   ]
  },
  {
   "cell_type": "code",
   "execution_count": 5,
   "metadata": {},
   "outputs": [],
   "source": [
    "n_train = 50000\n",
    "n_val = 10000 \n",
    "x_train, y_train = x_dev[:n_train].flatten(start_dim=1), y_dev[:n_train]\n",
    "x_val, y_val = x_dev[n_train:].flatten(start_dim=1), y_dev[n_train:]"
   ]
  },
  {
   "cell_type": "code",
   "execution_count": 6,
   "metadata": {},
   "outputs": [
    {
     "name": "stdout",
     "output_type": "stream",
     "text": [
      "torch.Size([50000, 784]) torch.Size([10000, 784])\n"
     ]
    }
   ],
   "source": [
    "print(x_train.shape, x_val.shape)"
   ]
  },
  {
   "cell_type": "code",
   "execution_count": 7,
   "metadata": {},
   "outputs": [],
   "source": [
    "num_features = 28 * 28 \n",
    "num_classes = 10\n",
    "\n",
    "weight = torch.empty(num_features, num_classes, requires_grad=False).uniform_(-1, 1) * np.sqrt(6 / (num_features + num_classes))\n",
    "weight.requires_grad_()\n",
    "bias = torch.zeros(num_classes, requires_grad=True)"
   ]
  },
  {
   "cell_type": "code",
   "execution_count": 8,
   "metadata": {},
   "outputs": [],
   "source": [
    "def model(input):\n",
    "    \"\"\"\n",
    "    Args:\n",
    "        input: Tensor of features, shape (num_samples, num_features)\n",
    "    Returns:\n",
    "        logits: Tensor of logits, shape (num_samples, num_classes)\n",
    "            logits[n, k] = log p(y_n = k | x_n)\n",
    "    \"\"\"\n",
    "    # return torch.log_softmax(input @ weight + bias)\n",
    "    return (input @ weight + bias).log_softmax(dim=1)\n",
    "\n",
    "def log_softmax(input):\n",
    "    return input - input.logsumexp(dim=1, keepdims=True)\n",
    "\n",
    "def nll_loss(logits, targets):\n",
    "    \"\"\"\n",
    "    Args:\n",
    "        logits: Tensor of logits, shape (num_samples, num_classes)\n",
    "            logits[n, k] = log p(y_n = k | x_n)\n",
    "        targets: Correct class labels, shape (num_samples, )\n",
    "    Returns:\n",
    "        loss: Tensor, average loss for the batch of data, shape ()\n",
    "    \"\"\"\n",
    "    return -logits[range(targets.shape[0]), targets].float().mean()\n",
    "\n",
    "def get_accuracy(logits, targets):\n",
    "    preds = logits.argmax(dim=1)\n",
    "    return (preds == targets).float().mean()"
   ]
  },
  {
   "cell_type": "code",
   "execution_count": 9,
   "metadata": {},
   "outputs": [
    {
     "name": "stdout",
     "output_type": "stream",
     "text": [
      "tensor([[0, 0, 1],\n",
      "        [0, 1, 0],\n",
      "        [1, 0, 0]])\n",
      "tensor(-4.)\n"
     ]
    }
   ],
   "source": [
    "logits = torch.arange(9).reshape(3, 3)\n",
    "targets = torch.tensor([2, 1, 0])\n",
    "targets_one_hot = torch.zeros_like(logits)\n",
    "targets_one_hot[range(targets.shape[0]), targets] = 1\n",
    "print(targets_one_hot)\n",
    "loss = nll_loss(logits, targets)\n",
    "print(loss)"
   ]
  },
  {
   "cell_type": "code",
   "execution_count": 10,
   "metadata": {},
   "outputs": [
    {
     "name": "stdout",
     "output_type": "stream",
     "text": [
      "tensor(0.0781)\n",
      "tensor(0.0673)\n"
     ]
    }
   ],
   "source": [
    "batch_size = 64\n",
    "print(get_accuracy(model(x_train[:batch_size]), y_train[:batch_size]))\n",
    "print(get_accuracy(model(x_train), y_train))\n"
   ]
  },
  {
   "cell_type": "code",
   "execution_count": 11,
   "metadata": {},
   "outputs": [],
   "source": [
    "loss_fn = nll_loss"
   ]
  },
  {
   "cell_type": "code",
   "execution_count": 12,
   "metadata": {},
   "outputs": [
    {
     "name": "stdout",
     "output_type": "stream",
     "text": [
      "Epoch 0:\n",
      "loss_train: 0.40359678864479065\n",
      "acc_train: 0.9051399827003479\n",
      "Epoch 1:\n",
      "loss_train: 0.3132064938545227\n",
      "acc_train: 0.9135199785232544\n"
     ]
    }
   ],
   "source": [
    "num_epochs = 2\n",
    "learning_rate = 0.5\n",
    "for epoch in range(num_epochs):\n",
    "    for i in range(int(np.ceil((n_train / batch_size)))):\n",
    "        # Get minibatch \n",
    "        start_i = i * batch_size\n",
    "        end_i = min(start_i + batch_size, n_train)\n",
    "        x_mini = x_train[start_i:end_i]\n",
    "        y_mini = y_train[start_i:end_i]\n",
    "\n",
    "        # Generate predictions\n",
    "        logits = model(x_mini)\n",
    "\n",
    "        # Compute the loss\n",
    "        loss = loss_fn(logits, y_mini)\n",
    "\n",
    "        # Compute the gradients of the loss w.r.t parameters (weight, bias)\n",
    "        loss.backward()\n",
    "\n",
    "        # Do gradient descent\n",
    "        with torch.no_grad():\n",
    "            weight -= learning_rate * weight.grad\n",
    "            bias -= learning_rate * bias.grad\n",
    "        weight.grad.zero_()\n",
    "        bias.grad.zero_()\n",
    "    print(\"Epoch {}:\".format(epoch))\n",
    "    print(\"loss_train: {}\".format(loss))\n",
    "    print(\"acc_train: {}\".format(get_accuracy(model(x_train), y_train)))"
   ]
  },
  {
   "cell_type": "markdown",
   "metadata": {},
   "source": [
    "# using torch.nn.functional"
   ]
  },
  {
   "cell_type": "code",
   "execution_count": 13,
   "metadata": {},
   "outputs": [],
   "source": [
    "import torch.nn.functional as F"
   ]
  },
  {
   "cell_type": "code",
   "execution_count": 14,
   "metadata": {},
   "outputs": [],
   "source": [
    "def model(input):\n",
    "    return input @ weight + bias\n",
    "\n",
    "loss_fn = F.cross_entropy"
   ]
  },
  {
   "cell_type": "code",
   "execution_count": 15,
   "metadata": {},
   "outputs": [
    {
     "name": "stdout",
     "output_type": "stream",
     "text": [
      "tensor(0.2299, grad_fn=<NllLossBackward>)\n"
     ]
    }
   ],
   "source": [
    "loss = loss_fn(model(x_train[:batch_size]), y_train[:batch_size])\n",
    "print(loss)"
   ]
  },
  {
   "cell_type": "markdown",
   "metadata": {},
   "source": [
    "# using nn.Module"
   ]
  },
  {
   "cell_type": "code",
   "execution_count": 16,
   "metadata": {},
   "outputs": [],
   "source": [
    "import torch.nn as nn\n",
    "\n",
    "class Net(nn.Module):\n",
    "    def __init__(self, num_features, num_classes):\n",
    "        super().__init__()\n",
    "        # no need to set require_grad = True\n",
    "        self.weight = nn.Parameter(torch.empty(num_features, num_classes).uniform_(-1, 1) \n",
    "                            * np.sqrt(6 / (num_features + num_classes)))\n",
    "        self.bias = nn.Parameter(torch.zeros(num_classes))\n",
    "\n",
    "    def forward(self, input):\n",
    "        return input @ self.weight + self.bias"
   ]
  },
  {
   "cell_type": "code",
   "execution_count": 17,
   "metadata": {},
   "outputs": [
    {
     "name": "stdout",
     "output_type": "stream",
     "text": [
      "tensor(2.3475, grad_fn=<NllLossBackward>)\n"
     ]
    }
   ],
   "source": [
    "model = Net(num_features, num_classes)\n",
    "print(loss_fn(model(x_train), y_train))"
   ]
  },
  {
   "cell_type": "code",
   "execution_count": 26,
   "metadata": {},
   "outputs": [],
   "source": [
    "num_epochs = 2\n",
    "learning_rate = 0.5\n",
    "def fit(model, num_epochs):\n",
    "    for epoch in range(num_epochs):\n",
    "        for i in range(int(np.ceil((n_train / batch_size)))):\n",
    "            # Get minibatch \n",
    "            start_i = i * batch_size\n",
    "            end_i = min(start_i + batch_size, n_train)\n",
    "            x_mini = x_train[start_i:end_i]\n",
    "            y_mini = y_train[start_i:end_i]\n",
    "\n",
    "            # Generate predictions\n",
    "            logits = model(x_mini)\n",
    "\n",
    "            # Compute the loss\n",
    "            loss = loss_fn(logits, y_mini)\n",
    "\n",
    "            # Compute the gradients of the loss w.r.t parameters (weight, bias)\n",
    "            model.zero_grad()\n",
    "            loss.backward()\n",
    "\n",
    "            # Do gradient descent\n",
    "            with torch.no_grad():\n",
    "                for param in model.parameters():\n",
    "                    param -= learning_rate * param.grad\n",
    "    \n",
    "        print(\"Epoch {}:\".format(epoch))\n",
    "        print(\"loss_train: {}\".format(loss))\n",
    "        print(\"acc_train: {}\".format(get_accuracy(model(x_train), y_train)))"
   ]
  },
  {
   "cell_type": "code",
   "execution_count": 27,
   "metadata": {},
   "outputs": [
    {
     "name": "stdout",
     "output_type": "stream",
     "text": [
      "Epoch 0:\n",
      "loss_train: 0.26737791299819946\n",
      "acc_train: 0.9166799783706665\n",
      "Epoch 1:\n",
      "loss_train: 0.239226296544075\n",
      "acc_train: 0.9184799790382385\n"
     ]
    }
   ],
   "source": [
    "fit(model=model, num_epochs=2)"
   ]
  },
  {
   "cell_type": "markdown",
   "metadata": {},
   "source": [
    "# using nn.Linear"
   ]
  },
  {
   "cell_type": "code",
   "execution_count": 29,
   "metadata": {},
   "outputs": [],
   "source": [
    "class Net(nn.Module):\n",
    "    def __init__(self, num_features, num_classes):\n",
    "        super().__init__()\n",
    "        self.lin = nn.Linear(num_features, num_classes)\n",
    "    \n",
    "    def forward(self, input):\n",
    "        return self.lin(input)\n",
    "\n",
    "def initialize_weight(model):\n",
    "    if isinstance(model, (nn.Linear, nn.Conv2d)):\n",
    "        nn.init.xavier_normal_(model.weight)"
   ]
  },
  {
   "cell_type": "code",
   "execution_count": 30,
   "metadata": {},
   "outputs": [
    {
     "name": "stdout",
     "output_type": "stream",
     "text": [
      "Epoch 0:\n",
      "loss_train: 0.4025786519050598\n",
      "acc_train: 0.90420001745224\n",
      "Epoch 1:\n",
      "loss_train: 0.31374311447143555\n",
      "acc_train: 0.9128599762916565\n"
     ]
    }
   ],
   "source": [
    "model = Net(num_features, num_classes)\n",
    "model.apply(initialize_weight)\n",
    "\n",
    "fit(model, num_epochs=2)"
   ]
  },
  {
   "cell_type": "markdown",
   "metadata": {},
   "source": [
    "# using torch.optim"
   ]
  },
  {
   "cell_type": "code",
   "execution_count": 31,
   "metadata": {},
   "outputs": [],
   "source": [
    "optimizer = torch.optim.SGD(model.parameters(), lr=learning_rate)"
   ]
  },
  {
   "cell_type": "code",
   "execution_count": 33,
   "metadata": {},
   "outputs": [],
   "source": [
    "num_epochs = 2\n",
    "learning_rate = 0.5\n",
    "def fit(model, optimizer, num_epochs):\n",
    "    for epoch in range(num_epochs):\n",
    "        for i in range(int(np.ceil((n_train / batch_size)))):\n",
    "            # Get minibatch \n",
    "            start_i = i * batch_size\n",
    "            end_i = min(start_i + batch_size, n_train)\n",
    "            x_mini = x_train[start_i:end_i]\n",
    "            y_mini = y_train[start_i:end_i]\n",
    "\n",
    "            # Generate predictions\n",
    "            logits = model(x_mini)\n",
    "\n",
    "            # Compute the loss\n",
    "            loss = loss_fn(logits, y_mini)\n",
    "\n",
    "            # Compute the gradients of the loss w.r.t parameters (weight, bias)\n",
    "            model.zero_grad()\n",
    "            loss.backward()\n",
    "\n",
    "            # Do gradient descent\n",
    "            optimizer.step()\n",
    "    \n",
    "        print(\"Epoch {}:\".format(epoch))\n",
    "        print(\"loss_train: {}\".format(loss))\n",
    "        print(\"acc_train: {}\".format(get_accuracy(model(x_train), y_train)))"
   ]
  },
  {
   "cell_type": "code",
   "execution_count": 34,
   "metadata": {},
   "outputs": [
    {
     "name": "stdout",
     "output_type": "stream",
     "text": [
      "Epoch 0:\n",
      "loss_train: 0.2701719105243683\n",
      "acc_train: 0.9164800047874451\n",
      "Epoch 1:\n",
      "loss_train: 0.24144691228866577\n",
      "acc_train: 0.9181600213050842\n"
     ]
    }
   ],
   "source": [
    "fit(model, optimizer, 2)"
   ]
  },
  {
   "cell_type": "markdown",
   "metadata": {},
   "source": [
    "# using Dataset"
   ]
  },
  {
   "cell_type": "code",
   "execution_count": 40,
   "metadata": {},
   "outputs": [],
   "source": [
    "from torch.utils.data.dataset import TensorDataset\n",
    "\n",
    "train_set = TensorDataset(x_train, y_train)"
   ]
  },
  {
   "cell_type": "code",
   "execution_count": 41,
   "metadata": {},
   "outputs": [],
   "source": [
    "num_epochs = 2\n",
    "learning_rate = 0.5\n",
    "def fit(model, optimizer, train_set, num_epochs):\n",
    "    for epoch in range(num_epochs):\n",
    "        for i in range(int(np.ceil((n_train / batch_size)))):\n",
    "            # Get minibatch \n",
    "            start_i = i * batch_size\n",
    "            end_i = min(start_i + batch_size, n_train)\n",
    "            # x_mini = x_train[start_i:end_i]\n",
    "            # y_mini = y_train[start_i:end_i]\n",
    "            x_mini, y_mini = train_set[start_i:end_i]\n",
    "\n",
    "            # Generate predictions\n",
    "            logits = model(x_mini)\n",
    "\n",
    "            # Compute the loss\n",
    "            loss = loss_fn(logits, y_mini)\n",
    "\n",
    "            # Compute the gradients of the loss w.r.t parameters (weight, bias)\n",
    "            model.zero_grad()\n",
    "            loss.backward()\n",
    "\n",
    "            # Do gradient descent\n",
    "            optimizer.step()\n",
    "    \n",
    "        print(\"Epoch {}:\".format(epoch))\n",
    "        print(\"loss_train: {}\".format(loss))\n",
    "        print(\"acc_train: {}\".format(get_accuracy(model(x_train), y_train)))"
   ]
  },
  {
   "cell_type": "code",
   "execution_count": 42,
   "metadata": {},
   "outputs": [
    {
     "name": "stdout",
     "output_type": "stream",
     "text": [
      "Epoch 0:\n",
      "loss_train: 0.40804043412208557\n",
      "acc_train: 0.9044600129127502\n",
      "Epoch 1:\n",
      "loss_train: 0.3180721402168274\n",
      "acc_train: 0.9131600260734558\n"
     ]
    }
   ],
   "source": [
    "model = Net(num_features, num_classes)\n",
    "model.apply(initialize_weight)\n",
    "optimizer = torch.optim.SGD(model.parameters(), lr=learning_rate)\n",
    "\n",
    "fit(model, optimizer, train_set, 2)"
   ]
  },
  {
   "cell_type": "markdown",
   "metadata": {},
   "source": [
    "# using dataloader"
   ]
  },
  {
   "cell_type": "code",
   "execution_count": 43,
   "metadata": {},
   "outputs": [],
   "source": [
    "from torch.utils.data.dataloader import DataLoader\n",
    "\n",
    "train_loader = DataLoader(train_set, batch_size=batch_size, shuffle=True)"
   ]
  },
  {
   "cell_type": "code",
   "execution_count": 44,
   "metadata": {},
   "outputs": [],
   "source": [
    "num_epochs = 2\n",
    "learning_rate = 0.5\n",
    "def fit(model, optimizer, train_loader, num_epochs):\n",
    "    for epoch in range(num_epochs):\n",
    "        for (x_mini, y_mini) in train_loader:\n",
    "            # Generate predictions\n",
    "            logits = model(x_mini)\n",
    "\n",
    "            # Compute the loss\n",
    "            loss = loss_fn(logits, y_mini)\n",
    "\n",
    "            # Compute the gradients of the loss w.r.t parameters (weight, bias)\n",
    "            model.zero_grad()\n",
    "            loss.backward()\n",
    "\n",
    "            # Do gradient descent\n",
    "            optimizer.step()\n",
    "    \n",
    "        print(\"Epoch {}:\".format(epoch))\n",
    "        print(\"loss_train: {}\".format(loss))\n",
    "        print(\"acc_train: {}\".format(get_accuracy(model(x_train), y_train)))"
   ]
  },
  {
   "cell_type": "code",
   "execution_count": 45,
   "metadata": {},
   "outputs": [
    {
     "name": "stdout",
     "output_type": "stream",
     "text": [
      "Epoch 0:\n",
      "loss_train: 1.202134132385254\n",
      "acc_train: 0.8512799739837646\n",
      "Epoch 1:\n",
      "loss_train: 0.2358727604150772\n",
      "acc_train: 0.9149600267410278\n"
     ]
    }
   ],
   "source": [
    "model = Net(num_features, num_classes)\n",
    "model.apply(initialize_weight)\n",
    "optimizer = torch.optim.SGD(model.parameters(), lr=learning_rate)\n",
    "\n",
    "fit(model, optimizer, train_loader, 2)"
   ]
  },
  {
   "cell_type": "markdown",
   "metadata": {},
   "source": [
    "# validation"
   ]
  },
  {
   "cell_type": "code",
   "execution_count": 46,
   "metadata": {},
   "outputs": [],
   "source": [
    "train_set = TensorDataset(x_train, y_train)\n",
    "val_set = TensorDataset(x_val, y_val)\n",
    "\n",
    "dataloaders = {}\n",
    "dataloaders[\"train\"] = DataLoader(train_set, batch_size=batch_size, shuffle=True)\n",
    "dataloaders[\"val\"] = DataLoader(val_set, batch_size=batch_size, shuffle=True)"
   ]
  },
  {
   "cell_type": "code",
   "execution_count": 49,
   "metadata": {},
   "outputs": [],
   "source": [
    "num_epochs = 2\n",
    "learning_rate = 0.5\n",
    "def fit(model, optimizer, dataloaders, num_epochs):\n",
    "    for epoch in range(num_epochs):\n",
    "        model.train()\n",
    "        for (x_mini, y_mini) in dataloaders[\"train\"]:\n",
    "            # Generate predictions\n",
    "            logits = model(x_mini)\n",
    "\n",
    "            # Compute the loss\n",
    "            loss = loss_fn(logits, y_mini)\n",
    "\n",
    "            # Compute the gradients of the loss w.r.t parameters (weight, bias)\n",
    "            model.zero_grad()\n",
    "            loss.backward()\n",
    "\n",
    "            # Do gradient descent\n",
    "            optimizer.step()\n",
    "\n",
    "        model.eval()\n",
    "        loss_val = 0\n",
    "        with torch.no_grad():\n",
    "            for (x_mini, y_mini) in dataloaders[\"val\"]:\n",
    "                logits = model(x_mini)\n",
    "\n",
    "                loss_val += loss_fn(logits, y_mini)\n",
    "            avg_loss = loss_val / len(dataloaders[\"val\"])\n",
    "    \n",
    "        print(\"Epoch {}:\".format(epoch))\n",
    "        print(\"loss_train: {}\".format(loss))\n",
    "        print(\"loss_val: {}\".format(avg_loss))"
   ]
  },
  {
   "cell_type": "code",
   "execution_count": 50,
   "metadata": {},
   "outputs": [
    {
     "name": "stdout",
     "output_type": "stream",
     "text": [
      "Epoch 0:\n",
      "loss_train: 0.3111090362071991\n",
      "loss_val: 0.36481213569641113\n",
      "Epoch 1:\n",
      "loss_train: 0.14805105328559875\n",
      "loss_val: 0.2823346257209778\n"
     ]
    }
   ],
   "source": [
    "model = Net(num_features, num_classes)\n",
    "model.apply(initialize_weight)\n",
    "optimizer = torch.optim.SGD(model.parameters(), lr=learning_rate)\n",
    "\n",
    "fit(model, optimizer, dataloaders, 2)"
   ]
  },
  {
   "cell_type": "code",
   "execution_count": null,
   "metadata": {},
   "outputs": [],
   "source": []
  }
 ],
 "metadata": {
  "interpreter": {
   "hash": "7defa187d5e3710339268a5cd15ef0cca1b3c8a600ebfb440211335c2fae9506"
  },
  "kernelspec": {
   "display_name": "Python 3.7.11 64-bit ('i2dl': conda)",
   "language": "python",
   "name": "python3"
  },
  "language_info": {
   "codemirror_mode": {
    "name": "ipython",
    "version": 3
   },
   "file_extension": ".py",
   "mimetype": "text/x-python",
   "name": "python",
   "nbconvert_exporter": "python",
   "pygments_lexer": "ipython3",
   "version": "3.7.11"
  },
  "orig_nbformat": 4
 },
 "nbformat": 4,
 "nbformat_minor": 2
}
